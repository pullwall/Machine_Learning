{
 "cells": [
  {
   "cell_type": "code",
   "execution_count": 1,
   "id": "7f0fc48e",
   "metadata": {},
   "outputs": [
    {
     "data": {
      "text/plain": [
       "'C:\\\\Windows\\\\system32'"
      ]
     },
     "execution_count": 1,
     "metadata": {},
     "output_type": "execute_result"
    }
   ],
   "source": [
    "pwd"
   ]
  },
  {
   "cell_type": "code",
   "execution_count": 2,
   "id": "4f587622",
   "metadata": {},
   "outputs": [
    {
     "name": "stdout",
     "output_type": "stream",
     "text": [
      "[name: \"/device:CPU:0\"\n",
      "device_type: \"CPU\"\n",
      "memory_limit: 268435456\n",
      "locality {\n",
      "}\n",
      "incarnation: 14660691197799822053\n",
      ", name: \"/device:GPU:0\"\n",
      "device_type: \"GPU\"\n",
      "memory_limit: 6904558400\n",
      "locality {\n",
      "  bus_id: 1\n",
      "  links {\n",
      "  }\n",
      "}\n",
      "incarnation: 1601745002740763326\n",
      "physical_device_desc: \"device: 0, name: NVIDIA GeForce RTX 3070, pci bus id: 0000:2b:00.0, compute capability: 8.6\"\n",
      "]\n"
     ]
    }
   ],
   "source": [
    "from tensorflow.python.client import device_lib\n",
    "print(device_lib.list_local_devices())"
   ]
  },
  {
   "cell_type": "code",
   "execution_count": 2,
   "id": "9fbd0fe3",
   "metadata": {},
   "outputs": [
    {
     "name": "stdout",
     "output_type": "stream",
     "text": [
      "Number of posters for training:  4728\n",
      "Number of posters for validation:  1183\n"
     ]
    }
   ],
   "source": [
    "import pandas as pd\n",
    "import tensorflow as tf\n",
    "import matplotlib.style as style\n",
    "import matplotlib.pyplot as plt\n",
    "\n",
    "from tensorflow.keras.layers import Dense, Dropout, Flatten, GlobalAveragePooling2D\n",
    "from tensorflow.keras.models import Model\n",
    "from tensorflow.keras.applications import VGG19\n",
    "from tensorflow.keras.preprocessing.image import ImageDataGenerator\n",
    "from tensorflow.keras.optimizers import SGD\n",
    "from tensorflow.keras.callbacks import ModelCheckpoint, ReduceLROnPlateau\n",
    "\n",
    "from sklearn.model_selection import train_test_split\n",
    "from sklearn import preprocessing\n",
    "\n",
    "df = pd.read_csv(\"train.csv\")\n",
    "\n",
    "# X:이미지 y:artist\n",
    "X_train, X_val, y_train, y_val = train_test_split(df, df['artist'].values, test_size=0.2)\n",
    "print(\"Number of posters for training: \", len(X_train))\n",
    "print(\"Number of posters for validation: \", len(X_val))\n",
    "\n",
    "\n",
    "artist_df['num'] = artist_train\n",
    "artist_df = artist_df.drop('id', axis=1)\n",
    "artist_df = artist_df.drop('img_path', axis=1)\n",
    "\n",
    "\n",
    "artist_df.set_index('num', inplace=True)\n",
    "artist_df = artist_df.sort_index()\n",
    "\n",
    "\n",
    "artist_test_dic = artist_df['artist'].to_dict()\n",
    "\n",
    "\n",
    "# 데이터 노이즈 수정\n",
    "df.loc[df['id'] == 3896, 'artist'] = 'Titian'\n",
    "df.loc[df['id'] == 3986, 'artist'] = 'Alfred Sisley'\n",
    "\n",
    "# VGG19 모델 로드\n",
    "base_model =VGG19(weights = 'imagenet', include_top = False, input_shape=(244,244,3), input_tensor=None, pooling=None)\n",
    "\n",
    "# 새로운 Fully Connected Layer 추가\n",
    "x = GlobalAveragePooling2D()(base_model.output)\n",
    "predictions = Dense(50, activation = 'softmax')(x)\n",
    "\n",
    "# 전체 모델 구성\n",
    "model = Model(inputs=base_model.input, outputs=predictions)\n",
    "\n",
    "\n",
    "\"\"\"\n",
    "# 기존 모델 레이어 동결 (삭제하고 컴파일 해보기)\n",
    "for layer in base_model.layers:\n",
    "    layer.trainable = False\n",
    "\"\"\"\n",
    "\n",
    "\n",
    "LearningRate = 1e-3\n",
    "\n",
    "# 모델 컴파일\n",
    "# momentum 0.9 0.95 0.99 test\n",
    "model.compile(optimizer=\n",
    "         SGD(learning_rate=LearningRate, momentum=0.95, nesterov=True), \n",
    "         loss='categorical_crossentropy',\n",
    "         metrics=['acc']\n",
    ")\n",
    "\n",
    "# 콜백함수 생성\n",
    "CP = ModelCheckpoint(filepath='model/' +\n",
    "                     'VGG16-Sigmoid-{epoch:03d}-{loss:.4f}-{val_loss:.4f}.hdf5',\n",
    "     monitor='val_loss', verbose=1, save_best_only=True, mode='min')\n",
    "\n",
    "LR = ReduceLROnPlateau(monitor='val_loss',factor=0.5,patience=3, verbose=1, min_lr=0.00005)\n",
    "CALLBACK = [CP, LR]"
   ]
  },
  {
   "cell_type": "code",
   "execution_count": 4,
   "id": "723ca9f0",
   "metadata": {},
   "outputs": [
    {
     "name": "stdout",
     "output_type": "stream",
     "text": [
      "Found 4256 validated image filenames belonging to 50 classes.\n",
      "Found 472 validated image filenames belonging to 50 classes.\n"
     ]
    }
   ],
   "source": [
    "DATAGEN_TRAIN = ImageDataGenerator(\n",
    "    rescale=1./255,\n",
    "    width_shift_range=0.2,\n",
    "    height_shift_range=0.2,\n",
    "    zoom_range=0.2,\n",
    "    data_format=\"channels_last\",\n",
    "    validation_split=0.10\n",
    "    )\n",
    "\n",
    "\n",
    " \n",
    "# Generator의 instance 생성 (Train)\n",
    "TRAIN_GENERATOR = DATAGEN_TRAIN.flow_from_dataframe(\n",
    "                                        dataframe = X_train, x_col='img_path', y_col='artist',\n",
    "                                        target_size=(244, 244), \n",
    "                                        class_mode='categorical',\n",
    "                                        batch_size=32, shuffle=False,\n",
    "                                        subset = \"training\")\n",
    "# Validaion Data에는 rescale만 적용\n",
    "VALID_GENERATOR = DATAGEN_TRAIN.flow_from_dataframe(\n",
    "                                        dataframe = X_train, x_col='img_path', y_col='artist',\n",
    "                                        target_size=(244, 244), \n",
    "                                        class_mode='categorical',\n",
    "                                        batch_size=32, shuffle=False,\n",
    "                                        subset = \"validation\")"
   ]
  },
  {
   "cell_type": "code",
   "execution_count": 5,
   "id": "5e2a9e61",
   "metadata": {},
   "outputs": [
    {
     "name": "stdout",
     "output_type": "stream",
     "text": [
      "Epoch 1/30\n",
      "133/133 [==============================] - 51s 383ms/step - loss: 2.2355 - acc: 0.3990 - val_loss: 2.1791 - val_acc: 0.4195\n",
      "\n",
      "Epoch 00001: val_loss improved from 2.96339 to 2.17913, saving model to model\\VGG16-Sigmoid-001-2.2355-2.1791.hdf5\n",
      "Epoch 2/30\n",
      "133/133 [==============================] - 50s 372ms/step - loss: 1.8785 - acc: 0.4901 - val_loss: 2.1035 - val_acc: 0.4153\n",
      "\n",
      "Epoch 00002: val_loss improved from 2.17913 to 2.10349, saving model to model\\VGG16-Sigmoid-002-1.8785-2.1035.hdf5\n",
      "Epoch 3/30\n",
      "133/133 [==============================] - 50s 372ms/step - loss: 1.6152 - acc: 0.5437 - val_loss: 1.9179 - val_acc: 0.4852\n",
      "\n",
      "Epoch 00003: val_loss improved from 2.10349 to 1.91792, saving model to model\\VGG16-Sigmoid-003-1.6152-1.9179.hdf5\n",
      "Epoch 4/30\n",
      "133/133 [==============================] - 51s 385ms/step - loss: 1.4253 - acc: 0.5992 - val_loss: 1.9674 - val_acc: 0.5148\n",
      "\n",
      "Epoch 00004: val_loss did not improve from 1.91792\n",
      "Epoch 5/30\n",
      "133/133 [==============================] - 50s 377ms/step - loss: 1.2387 - acc: 0.6459 - val_loss: 2.0484 - val_acc: 0.4725\n",
      "\n",
      "Epoch 00005: val_loss did not improve from 1.91792\n",
      "Epoch 6/30\n",
      "133/133 [==============================] - 50s 377ms/step - loss: 1.0861 - acc: 0.6849 - val_loss: 2.0436 - val_acc: 0.4958\n",
      "\n",
      "Epoch 00006: val_loss did not improve from 1.91792\n",
      "\n",
      "Epoch 00006: ReduceLROnPlateau reducing learning rate to 0.0005000000237487257.\n",
      "Epoch 7/30\n",
      "133/133 [==============================] - 50s 375ms/step - loss: 0.7128 - acc: 0.7909 - val_loss: 1.4751 - val_acc: 0.6081\n",
      "\n",
      "Epoch 00007: val_loss improved from 1.91792 to 1.47507, saving model to model\\VGG16-Sigmoid-007-0.7128-1.4751.hdf5\n",
      "Epoch 8/30\n",
      "133/133 [==============================] - 50s 373ms/step - loss: 0.5307 - acc: 0.8386 - val_loss: 1.7088 - val_acc: 0.5847\n",
      "\n",
      "Epoch 00008: val_loss did not improve from 1.47507\n",
      "Epoch 9/30\n",
      "133/133 [==============================] - 50s 374ms/step - loss: 0.4525 - acc: 0.8576 - val_loss: 1.6537 - val_acc: 0.6017\n",
      "\n",
      "Epoch 00009: val_loss did not improve from 1.47507\n",
      "Epoch 10/30\n",
      "133/133 [==============================] - 50s 376ms/step - loss: 0.4149 - acc: 0.8745 - val_loss: 1.7381 - val_acc: 0.5932\n",
      "\n",
      "Epoch 00010: val_loss did not improve from 1.47507\n",
      "\n",
      "Epoch 00010: ReduceLROnPlateau reducing learning rate to 0.0002500000118743628.\n",
      "Epoch 11/30\n",
      "133/133 [==============================] - 50s 374ms/step - loss: 0.2430 - acc: 0.9281 - val_loss: 1.6121 - val_acc: 0.6695\n",
      "\n",
      "Epoch 00011: val_loss did not improve from 1.47507\n",
      "Epoch 12/30\n",
      "133/133 [==============================] - 50s 375ms/step - loss: 0.1518 - acc: 0.9532 - val_loss: 1.8830 - val_acc: 0.6419\n",
      "\n",
      "Epoch 00012: val_loss did not improve from 1.47507\n",
      "Epoch 13/30\n",
      "133/133 [==============================] - 50s 378ms/step - loss: 0.1447 - acc: 0.9523 - val_loss: 1.9286 - val_acc: 0.6229\n",
      "\n",
      "Epoch 00013: val_loss did not improve from 1.47507\n",
      "\n",
      "Epoch 00013: ReduceLROnPlateau reducing learning rate to 0.0001250000059371814.\n",
      "Epoch 14/30\n",
      "133/133 [==============================] - 50s 376ms/step - loss: 0.0837 - acc: 0.9760 - val_loss: 2.0086 - val_acc: 0.6822\n",
      "\n",
      "Epoch 00014: val_loss did not improve from 1.47507\n",
      "Epoch 15/30\n",
      "133/133 [==============================] - 50s 374ms/step - loss: 0.0627 - acc: 0.9819 - val_loss: 2.0733 - val_acc: 0.6758\n",
      "\n",
      "Epoch 00015: val_loss did not improve from 1.47507\n",
      "Epoch 16/30\n",
      "133/133 [==============================] - 50s 374ms/step - loss: 0.0367 - acc: 0.9897 - val_loss: 2.3580 - val_acc: 0.6610\n",
      "\n",
      "Epoch 00016: val_loss did not improve from 1.47507\n",
      "\n",
      "Epoch 00016: ReduceLROnPlateau reducing learning rate to 6.25000029685907e-05.\n",
      "Epoch 17/30\n",
      "133/133 [==============================] - 50s 376ms/step - loss: 0.0355 - acc: 0.9906 - val_loss: 2.1974 - val_acc: 0.6377\n",
      "\n",
      "Epoch 00017: val_loss did not improve from 1.47507\n",
      "Epoch 18/30\n",
      "133/133 [==============================] - 50s 374ms/step - loss: 0.0223 - acc: 0.9937 - val_loss: 2.1834 - val_acc: 0.6610\n",
      "\n",
      "Epoch 00018: val_loss did not improve from 1.47507\n",
      "Epoch 19/30\n",
      "133/133 [==============================] - 50s 375ms/step - loss: 0.0294 - acc: 0.9934 - val_loss: 2.2404 - val_acc: 0.6737\n",
      "\n",
      "Epoch 00019: val_loss did not improve from 1.47507\n",
      "\n",
      "Epoch 00019: ReduceLROnPlateau reducing learning rate to 5e-05.\n",
      "Epoch 20/30\n",
      "133/133 [==============================] - 50s 376ms/step - loss: 0.0226 - acc: 0.9944 - val_loss: 2.2376 - val_acc: 0.6758\n",
      "\n",
      "Epoch 00020: val_loss did not improve from 1.47507\n",
      "Epoch 21/30\n",
      "133/133 [==============================] - 50s 375ms/step - loss: 0.0222 - acc: 0.9946 - val_loss: 2.2395 - val_acc: 0.6737\n",
      "\n",
      "Epoch 00021: val_loss did not improve from 1.47507\n",
      "Epoch 22/30\n",
      "133/133 [==============================] - 50s 376ms/step - loss: 0.0152 - acc: 0.9962 - val_loss: 2.2425 - val_acc: 0.6737\n",
      "\n",
      "Epoch 00022: val_loss did not improve from 1.47507\n",
      "Epoch 23/30\n",
      "133/133 [==============================] - 50s 376ms/step - loss: 0.0153 - acc: 0.9965 - val_loss: 2.4716 - val_acc: 0.6737\n",
      "\n",
      "Epoch 00023: val_loss did not improve from 1.47507\n",
      "Epoch 24/30\n",
      "133/133 [==============================] - 50s 376ms/step - loss: 0.0139 - acc: 0.9965 - val_loss: 2.4407 - val_acc: 0.6949\n",
      "\n",
      "Epoch 00024: val_loss did not improve from 1.47507\n",
      "Epoch 25/30\n",
      "133/133 [==============================] - 53s 394ms/step - loss: 0.0155 - acc: 0.9965 - val_loss: 2.5196 - val_acc: 0.6653\n",
      "\n",
      "Epoch 00025: val_loss did not improve from 1.47507\n",
      "Epoch 26/30\n",
      "133/133 [==============================] - 54s 404ms/step - loss: 0.0203 - acc: 0.9937 - val_loss: 2.5195 - val_acc: 0.6801\n",
      "\n",
      "Epoch 00026: val_loss did not improve from 1.47507\n",
      "Epoch 27/30\n",
      "133/133 [==============================] - 51s 380ms/step - loss: 0.0178 - acc: 0.9953 - val_loss: 2.3690 - val_acc: 0.6610\n",
      "\n",
      "Epoch 00027: val_loss did not improve from 1.47507\n",
      "Epoch 28/30\n",
      "133/133 [==============================] - 51s 381ms/step - loss: 0.0146 - acc: 0.9967 - val_loss: 2.3952 - val_acc: 0.6928\n",
      "\n",
      "Epoch 00028: val_loss did not improve from 1.47507\n",
      "Epoch 29/30\n",
      "133/133 [==============================] - 51s 384ms/step - loss: 0.0134 - acc: 0.9965 - val_loss: 2.5258 - val_acc: 0.6695\n",
      "\n",
      "Epoch 00029: val_loss did not improve from 1.47507\n",
      "Epoch 30/30\n",
      "133/133 [==============================] - 51s 384ms/step - loss: 0.0135 - acc: 0.9972 - val_loss: 2.5491 - val_acc: 0.6801\n",
      "\n",
      "Epoch 00030: val_loss did not improve from 1.47507\n"
     ]
    }
   ],
   "source": [
    "history = model.fit(TRAIN_GENERATOR, epochs=30, callbacks=CALLBACK, shuffle=True, validation_data=VALID_GENERATOR)"
   ]
  },
  {
   "cell_type": "code",
   "execution_count": 6,
   "id": "234d1d01",
   "metadata": {},
   "outputs": [
    {
     "name": "stdout",
     "output_type": "stream",
     "text": [
      "Found 12670 validated image filenames.\n"
     ]
    }
   ],
   "source": [
    "import numpy as np\n",
    "import pandas as pd\n",
    "X_test = pd.read_csv(\"test.csv\")\n",
    "\n",
    "DATAGEN_TEST = ImageDataGenerator(\n",
    "    rescale=1./255,\n",
    "    data_format=\"channels_last\")\n",
    "\n",
    "TEST_GENERATOR = DATAGEN_TEST.flow_from_dataframe(\n",
    "                                        dataframe=X_test, x_col='img_path', y_col='id',\n",
    "                                        target_size=(244, 244), class_mode='raw',\n",
    "                                        batch_size=32, shuffle=False)\n",
    "\n",
    "TEST_GENERATOR.reset()\n",
    "\n"
   ]
  },
  {
   "cell_type": "code",
   "execution_count": 7,
   "id": "08e79f7f",
   "metadata": {},
   "outputs": [
    {
     "name": "stdout",
     "output_type": "stream",
     "text": [
      "396/396 [==============================] - 34s 78ms/step\n"
     ]
    }
   ],
   "source": [
    "TEST_Prediction = model.predict(TEST_GENERATOR, verbose=1)\n",
    "\n",
    "artist_num = np.argmax(TEST_Prediction, axis = 1)\n",
    "num_list = pd.DataFrame(artist_num, columns = ['artist'])\n",
    "num_list.to_csv(\"ansTVGG16_split_50.csv\", index = False)"
   ]
  },
  {
   "cell_type": "code",
   "execution_count": 8,
   "id": "6dc00819",
   "metadata": {},
   "outputs": [],
   "source": [
    "artist_num = np.argmax(TEST_Prediction, axis=1)\n",
    "num_list = pd.DataFrame(artist_num, columns=['artist'])\n",
    "\n",
    "artist_name = []\n",
    "for i in num_list['artist']:\n",
    "    artist_name.append(artist_test_dic[i])\n",
    "\n",
    "\n",
    "last_ans = pd.read_csv(\"sample_submission.csv\")\n",
    "\n",
    "last_ans.rename(columns={'artist':'artist_name'}, inplace=True)\n",
    "\n",
    "last_ans['artist'] = artist_name\n",
    "last_ans.drop('artist_name', axis=1, inplace=True)\n",
    "\n",
    "last_ans.to_csv(\"VGG16_50.csv\", index=False)"
   ]
  },
  {
   "cell_type": "code",
   "execution_count": null,
   "id": "57930887",
   "metadata": {},
   "outputs": [],
   "source": []
  }
 ],
 "metadata": {
  "kernelspec": {
   "display_name": "gpu",
   "language": "python",
   "name": "gpu"
  },
  "language_info": {
   "codemirror_mode": {
    "name": "ipython",
    "version": 3
   },
   "file_extension": ".py",
   "mimetype": "text/x-python",
   "name": "python",
   "nbconvert_exporter": "python",
   "pygments_lexer": "ipython3",
   "version": "3.7.16"
  }
 },
 "nbformat": 4,
 "nbformat_minor": 5
}
